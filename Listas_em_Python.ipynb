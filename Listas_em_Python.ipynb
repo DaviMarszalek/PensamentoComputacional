{
  "nbformat": 4,
  "nbformat_minor": 0,
  "metadata": {
    "colab": {
      "provenance": [],
      "authorship_tag": "ABX9TyNWuAQCGdQ5PN598nLLiYmj"
    },
    "kernelspec": {
      "name": "python3",
      "display_name": "Python 3"
    },
    "language_info": {
      "name": "python"
    }
  },
  "cells": [
    {
      "cell_type": "markdown",
      "source": [
        "### 1 - Array de 5 Nomes\n",
        "\n",
        " Objetivo: Ler 5 nomes de pessoas quaisquer. Exibir todos os nomes do primeiro ao último."
      ],
      "metadata": {
        "id": "ja4ggIVrl8t7"
      }
    },
    {
      "cell_type": "code",
      "source": [
        "nomes = []\n",
        "\n",
        "for i in range(5):\n",
        "    nome = input(\"Digite um nome: \")\n",
        "    nomes.append(nome)\n",
        "\n",
        "print(\"\\nSaída:\")\n",
        "for nome in nomes:\n",
        "    print(nome)\n"
      ],
      "metadata": {
        "id": "fb4w4akYl9YL",
        "colab": {
          "base_uri": "https://localhost:8080/"
        },
        "outputId": "17650891-1b1a-4e1b-cbaa-8bfcd2434f46"
      },
      "execution_count": null,
      "outputs": [
        {
          "output_type": "stream",
          "name": "stdout",
          "text": [
            "Digite um nome: João\n",
            "Digite um nome: Maria\n",
            "Digite um nome: José\n",
            "Digite um nome: Marta\n",
            "Digite um nome: Jair\n",
            "\n",
            "Saída:\n",
            "João\n",
            "Maria\n",
            "José\n",
            "Marta\n",
            "Jair\n"
          ]
        }
      ]
    },
    {
      "cell_type": "markdown",
      "source": [
        "### 2 - Lista com Quantidade Informada\n",
        "\n",
        "Objetivo: Perguntar ao usuário quantos nomes ele irá informar. Ler os nomes e exibi-los na mesma ordem."
      ],
      "metadata": {
        "id": "C8mib6AkmFvr"
      }
    },
    {
      "cell_type": "code",
      "source": [
        "qntd_nomes = int(input(\"Informe quantos nomes você irá informar? (Ex: '7') \"))\n",
        "nomes = []\n",
        "\n",
        "for i in range(qntd_nomes):\n",
        "    nome = input(\"Digite um nome: \")\n",
        "    nomes.append(nome)\n",
        "\n",
        "print(\"\\nSaída:\")\n",
        "for nome in nomes:\n",
        "    print(nome)"
      ],
      "metadata": {
        "colab": {
          "base_uri": "https://localhost:8080/"
        },
        "id": "oKFRxDatmVOF",
        "outputId": "36731285-56dd-4537-acf2-6c72a10dfd33"
      },
      "execution_count": null,
      "outputs": [
        {
          "output_type": "stream",
          "name": "stdout",
          "text": [
            "Informe quantos nomes você irá informar? (Ex: '7') 5\n",
            "Digite um nome: Davi\n",
            "Digite um nome: Douglas\n",
            "Digite um nome: Dário\n",
            "Digite um nome: Durval\n",
            "Digite um nome: Diego\n",
            "\n",
            "Saída:\n",
            "Davi\n",
            "Douglas\n",
            "Dário\n",
            "Durval\n",
            "Diego\n"
          ]
        }
      ]
    },
    {
      "cell_type": "markdown",
      "source": [
        "### 3 - Times de Futebol\n",
        "\n",
        "Objetivo: Ler uma lista com nomes de times (-quantidade definida pelo usuário). Exibir: o primeiro time, o time do meio e o último time."
      ],
      "metadata": {
        "id": "7wT1loTumyPb"
      }
    },
    {
      "cell_type": "code",
      "source": [
        "qntd_times = int(input(\"Quantos nomes de times você irá informar? \"))\n",
        "times = []\n",
        "\n",
        "for i in range(qntd_times):\n",
        "    time = input(\"Digite um time: \")\n",
        "    times.append(time)\n",
        "\n",
        "print(\"\\nResultado:\")\n",
        "print(\"Primeiro time:\", times[0])\n",
        "\n",
        "if qntd_times % 2 == 1:\n",
        "    meio = qntd_times // 2\n",
        "    print(\"Time do meio:\", times[meio])\n",
        "else:\n",
        "    meio1 = qntd_times // 2 - 1\n",
        "    meio2 = qntd_times // 2\n",
        "    print(\"Times do meio:\", times[meio1], \"e\", times[meio2])\n",
        "\n",
        "print(\"Último time:\", times[-1])\n"
      ],
      "metadata": {
        "colab": {
          "base_uri": "https://localhost:8080/"
        },
        "id": "l4BuLYq_m7j6",
        "outputId": "a75fce51-cb8b-4c8c-f3e2-31236cfb7cb4"
      },
      "execution_count": null,
      "outputs": [
        {
          "output_type": "stream",
          "name": "stdout",
          "text": [
            "Quantos nomes de times você irá informar? 6\n",
            "Digite um time: Grêmio\n",
            "Digite um time: Flamengo\n",
            "Digite um time: Palmeiras\n",
            "Digite um time: São Paulo\n",
            "Digite um time: Santos\n",
            "Digite um time: Corinthians\n",
            "\n",
            "Resultado:\n",
            "Primeiro time: Grêmio\n",
            "Times do meio: Palmeiras e São Paulo\n",
            "Último time: Corinthians\n"
          ]
        }
      ]
    },
    {
      "cell_type": "markdown",
      "source": [
        "### 4 - Exibir Números (Ordem Normal)\n",
        "\n",
        "Objetivo: Ler uma lista de números quaisquer. Exibir os números do primeiro ao último."
      ],
      "metadata": {
        "id": "4jaaMp-go8YO"
      }
    },
    {
      "cell_type": "code",
      "source": [
        "numeros = []\n",
        "\n",
        "print(\"Digite os números (digite 'fim' para encerrar):\")\n",
        "\n",
        "while True:\n",
        "    entrada = input(\"Número: \")\n",
        "    if entrada.lower() == 'fim':\n",
        "        break\n",
        "    try:\n",
        "        numero = float(entrada)\n",
        "        numeros.append(numero)\n",
        "    except ValueError:\n",
        "        print(\"Erro. Digite um número ou 'fim' para encerrar.\")\n",
        "\n",
        "print(\"\\nSaída:\")\n",
        "for numero in numeros:\n",
        "    print(numero)"
      ],
      "metadata": {
        "colab": {
          "base_uri": "https://localhost:8080/"
        },
        "id": "RwCDboJhpAge",
        "outputId": "efd9b278-b993-49ee-a217-776ebbf30ab1"
      },
      "execution_count": null,
      "outputs": [
        {
          "output_type": "stream",
          "name": "stdout",
          "text": [
            "Digite os números (digite 'fim' para encerrar):\n",
            "Número: \n",
            "Erro. Digite um número ou 'fim' para encerrar.\n",
            "Número: 5.5\n",
            "Número: 7\n",
            "Número: 89\n",
            "Número: 148\n",
            "Número: 99.99\n",
            "Número: fim\n",
            "\n",
            "Saída:\n",
            "5.5\n",
            "7.0\n",
            "89.0\n",
            "148.0\n",
            "99.99\n"
          ]
        }
      ]
    },
    {
      "cell_type": "markdown",
      "source": [
        "### 5 - Exibir Números (Ordem Inversa)\n",
        "Objetivo: Ler uma lista de números. Exibir os números do último para o primeiro."
      ],
      "metadata": {
        "id": "J2laQPnxqvGZ"
      }
    },
    {
      "cell_type": "code",
      "source": [
        "numeros = []\n",
        "\n",
        "print(\"Digite os números (digite 'fim' para encerrar):\")\n",
        "\n",
        "while True:\n",
        "    entrada = input(\"Número: \")\n",
        "    if entrada.lower() == 'fim':\n",
        "        break\n",
        "    try:\n",
        "        numero = float(entrada)\n",
        "        numeros.append(numero)\n",
        "    except ValueError:\n",
        "        print(\"Erro. Digite um número ou 'fim' para encerrar.\")\n",
        "\n",
        "print(\"\\nSaída:\")\n",
        "for numero in reversed(numeros):\n",
        "    print(numero)"
      ],
      "metadata": {
        "colab": {
          "base_uri": "https://localhost:8080/"
        },
        "id": "kKMgq3oWr3PT",
        "outputId": "e045eac2-6a0f-4640-d43f-0e2184aa12f7"
      },
      "execution_count": null,
      "outputs": [
        {
          "output_type": "stream",
          "name": "stdout",
          "text": [
            "Digite os números (digite 'fim' para encerrar):\n",
            "Número: 10\n",
            "Número: 9\n",
            "Número: 8\n",
            "Número: 7\n",
            "Número: 6\n",
            "Número: 5\n",
            "Número: fim\n",
            "\n",
            "Saída:\n",
            "5.0\n",
            "6.0\n",
            "7.0\n",
            "8.0\n",
            "9.0\n",
            "10.0\n"
          ]
        }
      ]
    },
    {
      "cell_type": "markdown",
      "source": [
        "### 6 - Exibir Números Pulando de 2 em 2\n",
        "Objetivo: Ler uma lista de números. Exibir os números do primeiro ao último, pulando de dois em dois."
      ],
      "metadata": {
        "id": "fxpVSAJns3v7"
      }
    },
    {
      "cell_type": "code",
      "source": [
        "numeros = []\n",
        "\n",
        "print(\"Digite os números (digite 'fim' para encerrar):\")\n",
        "\n",
        "while True:\n",
        "    entrada = input(\"Número: \")\n",
        "    if entrada.lower() == 'fim':\n",
        "        break\n",
        "    try:\n",
        "        numero = float(entrada)\n",
        "        numeros.append(numero)\n",
        "    except ValueError:\n",
        "        print(\"Erro. Digite um número ou 'fim' para encerrar.\")\n",
        "\n",
        "print(\"\\nSaída:\")\n",
        "for i in range(1, len(numeros), 2):\n",
        "    print(numeros[i])"
      ],
      "metadata": {
        "colab": {
          "base_uri": "https://localhost:8080/"
        },
        "id": "O6ZZr08mtD_D",
        "outputId": "7891e00b-23a3-4278-9c7c-efc98f8da410"
      },
      "execution_count": null,
      "outputs": [
        {
          "output_type": "stream",
          "name": "stdout",
          "text": [
            "Digite os números (digite 'fim' para encerrar):\n",
            "Número: 8\n",
            "Número: 8\n",
            "Número: 3\n",
            "Número: 7\n",
            "Número: 0\n",
            "Número: 2\n",
            "Número: 9\n",
            "Número: 5\n",
            "Número: 2\n",
            "Número: fim\n",
            "\n",
            "Saída:\n",
            "8.0\n",
            "7.0\n",
            "2.0\n",
            "5.0\n"
          ]
        }
      ]
    },
    {
      "cell_type": "markdown",
      "source": [
        "### 7 – Exibir Números Inversos Pulando de 3 em 3\n",
        "Objetivo:\n",
        "Ler uma lista de números.\n",
        "Exibir os números do último para o primeiro, pulando de três em três."
      ],
      "metadata": {
        "id": "BDRBKDmiuc0F"
      }
    },
    {
      "cell_type": "code",
      "source": [
        "numeros = []\n",
        "\n",
        "print(\"Digite os números (digite 'fim' para encerrar):\")\n",
        "\n",
        "while True:\n",
        "    entrada = input(\"Número: \")\n",
        "    if entrada.lower() == 'fim':\n",
        "        break\n",
        "    try:\n",
        "        numero = float(entrada)\n",
        "        numeros.append(numero)\n",
        "    except ValueError:\n",
        "        print(\"Erro. Digite um número ou 'fim' para encerrar.\")\n",
        "\n",
        "print(\"\\nSaída:\")\n",
        "for i in reversed(range(0, len(numeros), 3)):\n",
        "    print(numeros[i])"
      ],
      "metadata": {
        "colab": {
          "base_uri": "https://localhost:8080/"
        },
        "id": "CLe4mb0jviwx",
        "outputId": "2a4f2fa9-6d65-48fd-bbaa-5a24548f6f01"
      },
      "execution_count": null,
      "outputs": [
        {
          "output_type": "stream",
          "name": "stdout",
          "text": [
            "Digite os números (digite 'fim' para encerrar):\n",
            "Número: 8\n",
            "Número: 8\n",
            "Número: 3\n",
            "Número: 7\n",
            "Número: 0\n",
            "Número: 2\n",
            "Número: 9\n",
            "Número: 5\n",
            "Número: 2\n",
            "Número: fim\n",
            "\n",
            "Saída:\n",
            "9.0\n",
            "7.0\n",
            "8.0\n"
          ]
        }
      ]
    },
    {
      "cell_type": "markdown",
      "source": [
        "### 8 – Exibir a Partir do Meio\n",
        "Objetivo:\n",
        "Ler uma lista de números (com quantidade definida pelo usuário).\n",
        "Exibir os números do meio ao primeiro e, depois, do meio ao último.\n",
        "Se a lista for par, não há um único valor central."
      ],
      "metadata": {
        "id": "FbazroKMHyq_"
      }
    },
    {
      "cell_type": "code",
      "source": [
        "qntd_numeros = int(input(\"Quantos números você irá informar? \"))\n",
        "numeros = []\n",
        "\n",
        "for i in range(qntd_numeros):\n",
        "    numero = int(input(f\"Digite o {i+1}º número: \"))\n",
        "    numeros.append(numero)\n",
        "\n",
        "print(\"\\nResultado:\")\n",
        "\n",
        "if qntd_numeros > 0:\n",
        "    meio = qntd_numeros // 2\n",
        "\n",
        "    # Exibir do meio ao primeiro\n",
        "    print(\"Do meio ao primeiro:\")\n",
        "    if qntd_numeros % 2 == 1:\n",
        "        for i in range(meio, -1, -1):\n",
        "            print(numeros[i])\n",
        "    else:\n",
        "        for i in range(meio - 1, -1, -1):\n",
        "            print(numeros[i])\n",
        "\n",
        "    # Exibir do meio ao último\n",
        "    print(\"\\nDo meio ao último:\")\n",
        "    for i in range(meio, qntd_numeros):\n",
        "        print(numeros[i])\n",
        "else:\n",
        "    print(\"Nenhum número foi informado.\")"
      ],
      "metadata": {
        "id": "Xsy0nc-yH28i",
        "colab": {
          "base_uri": "https://localhost:8080/"
        },
        "outputId": "903d23cb-50a4-4dbd-9030-5745f7ff63ce"
      },
      "execution_count": null,
      "outputs": [
        {
          "output_type": "stream",
          "name": "stdout",
          "text": [
            "Quantos números você irá informar? 5\n",
            "Digite o 1º número: 1\n",
            "Digite o 2º número: 2\n",
            "Digite o 3º número: 3\n",
            "Digite o 4º número: 4\n",
            "Digite o 5º número: 5\n",
            "\n",
            "Resultado:\n",
            "Do meio ao primeiro:\n",
            "3\n",
            "2\n",
            "1\n",
            "\n",
            "Do meio ao último:\n",
            "3\n",
            "4\n",
            "5\n"
          ]
        }
      ]
    },
    {
      "cell_type": "markdown",
      "source": [
        "### 9 – Filtrar Salários\n",
        "Objetivo:\n",
        "Ler uma lista de salários.\n",
        "Exibir apenas os salários maiores ou iguais a R$1412,00."
      ],
      "metadata": {
        "id": "jAJe3J9Xsusa"
      }
    },
    {
      "cell_type": "code",
      "source": [
        "salarios = []\n",
        "\n",
        "print(\"Digite os salários (digite 'fim' para encerrar):\")\n",
        "\n",
        "while True:\n",
        "    entrada = input(\"Salário: \")\n",
        "    if entrada.lower() == 'fim':\n",
        "        break\n",
        "    try:\n",
        "        salario = float(entrada)\n",
        "        salarios.append(salario)\n",
        "    except ValueError:\n",
        "        print(\"Erro. Digite o salário ou 'fim' para encerrar.\")\n",
        "\n",
        "print(\"\\nSaída:\")\n",
        "for salario in salarios:\n",
        "    if salario >= 1412.00:\n",
        "        print(salario)"
      ],
      "metadata": {
        "colab": {
          "base_uri": "https://localhost:8080/"
        },
        "id": "WDyN5tlxtKKH",
        "outputId": "71b48c5e-7c40-4bdd-d29b-f84d1e6a43fb"
      },
      "execution_count": null,
      "outputs": [
        {
          "output_type": "stream",
          "name": "stdout",
          "text": [
            "Digite os salários (digite 'fim' para encerrar):\n",
            "Salário: 1200\n",
            "Salário: 1300\n",
            "Salário: 1400\n",
            "Salário: 1600\n",
            "Salário: 1500\n",
            "Salário: 1700\n",
            "Salário: 1200\n",
            "Salário: fim\n",
            "\n",
            "Saída:\n",
            "1600.0\n",
            "1500.0\n",
            "1700.0\n"
          ]
        }
      ]
    },
    {
      "cell_type": "markdown",
      "source": [
        "### 10 – Notas dos Alunos (Separar Aprovação)\n",
        "Objetivo:\n",
        "Ler uma lista de notas.\n",
        "Exibir primeiro as notas que alcançaram a média (≥ 7.0) e depois as que não\n",
        "alcançaram."
      ],
      "metadata": {
        "id": "H2i2knYevakW"
      }
    },
    {
      "cell_type": "code",
      "source": [
        "notas = []\n",
        "media = 7\n",
        "nota_acima = []\n",
        "nota_abaixo = []\n",
        "\n",
        "print(\"Digite as notas (digite 'fim' para encerrar):\")\n",
        "\n",
        "while True:\n",
        "    entrada = input(\"Nota: \")\n",
        "    if entrada.lower() == 'fim':\n",
        "        break\n",
        "    try:\n",
        "        nota = float(entrada)\n",
        "        notas.append(nota)\n",
        "    except ValueError:\n",
        "        print(\"Erro. Digite a nota ou 'fim' para encerrar.\")\n",
        "\n",
        "print(\"\\nSaída:\")\n",
        "for nota in notas:\n",
        "    if nota >= media:\n",
        "     nota_acima.append(nota)\n",
        "    else:\n",
        "      nota_abaixo.append(nota)\n",
        "\n",
        "print(\"\\nNotas acima da média:\", nota_acima)\n",
        "print(\"\\nNotas abaixo da média:\", nota_abaixo)"
      ],
      "metadata": {
        "colab": {
          "base_uri": "https://localhost:8080/"
        },
        "id": "RrSRzhmbvkwt",
        "outputId": "251ecf0a-2f42-43f4-f81f-fb689472e903"
      },
      "execution_count": null,
      "outputs": [
        {
          "output_type": "stream",
          "name": "stdout",
          "text": [
            "Digite as notas (digite 'fim' para encerrar):\n",
            "Nota: 10\n",
            "Nota: 9\n",
            "Nota: 7\n",
            "Nota: 7.5\n",
            "Nota: 6.5\n",
            "Nota: 8\n",
            "Nota: 5.9\n",
            "Nota: 7.2\n",
            "Nota: 6.9\n",
            "Nota: 10\n",
            "Nota: fim\n",
            "\n",
            "Saída:\n",
            "\n",
            "Notas acima da média: [10.0, 9.0, 7.0, 7.5, 8.0, 7.2, 10.0]\n",
            "\n",
            "Notas abaixo da média: [6.5, 5.9, 6.9]\n"
          ]
        }
      ]
    },
    {
      "cell_type": "markdown",
      "source": [
        "### 11 – Soma de 12 Salários\n",
        "Objetivo:\n",
        "Ler uma lista de 12 salários.\n",
        "Calcular e exibir a soma total dos salários."
      ],
      "metadata": {
        "id": "FZF4DTNv0S5W"
      }
    },
    {
      "cell_type": "code",
      "source": [
        "salarios = []\n",
        "\n",
        "for i in range(12):\n",
        "    salario = float(input(f\"Digite o salário do {i+1}º funcionário: \"))\n",
        "    salarios.append(salario)\n",
        "\n",
        "soma_salarios = sum(salarios)\n",
        "\n",
        "print(\"\\nResultado:\")\n",
        "print(\"Soma total dos salários:\", soma_salarios)\n",
        "\n"
      ],
      "metadata": {
        "colab": {
          "base_uri": "https://localhost:8080/"
        },
        "id": "JOIAOHEo0WYV",
        "outputId": "6e7891bc-9541-4752-cf99-7a358a94b329"
      },
      "execution_count": null,
      "outputs": [
        {
          "output_type": "stream",
          "name": "stdout",
          "text": [
            "Digite o salário do 1º funcionário: 100\n",
            "Digite o salário do 2º funcionário: 200\n",
            "Digite o salário do 3º funcionário: 300\n",
            "Digite o salário do 4º funcionário: 400\n",
            "Digite o salário do 5º funcionário: 500\n",
            "Digite o salário do 6º funcionário: 600\n",
            "Digite o salário do 7º funcionário: 700.50\n",
            "Digite o salário do 8º funcionário: 800.15\n",
            "Digite o salário do 9º funcionário: 900\n",
            "Digite o salário do 10º funcionário: 100\n",
            "Digite o salário do 11º funcionário: 1200\n",
            "Digite o salário do 12º funcionário: 130\n",
            "\n",
            "Resultado:\n",
            "Soma total dos salários: 5930.65\n"
          ]
        }
      ]
    },
    {
      "cell_type": "markdown",
      "source": [
        "### 12 – Média de Notas\n",
        "Objetivo:\n",
        "Ler uma lista de notas.\n",
        "Calcular e exibir a média de todas as notas."
      ],
      "metadata": {
        "id": "9aZooVK32Ekz"
      }
    },
    {
      "cell_type": "code",
      "source": [
        "notas = []\n",
        "\n",
        "while True:\n",
        "  entrada = input(\"Digite as notas (digite 'fim' para encerrar):\")\n",
        "  if entrada.lower() == 'fim':\n",
        "      break\n",
        "  try:\n",
        "      nota = float(entrada)\n",
        "      notas.append(nota)\n",
        "  except ValueError:\n",
        "      print(\"Erro. Digite a nota ou 'fim' para encerrar.\")\n",
        "\n",
        "media_notas = sum(notas) / len(notas)\n",
        "print(\"A média geral das notas é:\", round(media_notas, 2))"
      ],
      "metadata": {
        "colab": {
          "base_uri": "https://localhost:8080/"
        },
        "id": "mET2o2Ko2JUS",
        "outputId": "12362c2d-4469-49b0-b2ec-82710e608c22"
      },
      "execution_count": null,
      "outputs": [
        {
          "output_type": "stream",
          "name": "stdout",
          "text": [
            "Digite as notas (digite 'fim' para encerrar):10\n",
            "Digite as notas (digite 'fim' para encerrar):9\n",
            "Digite as notas (digite 'fim' para encerrar):\n",
            "Erro. Digite a nota ou 'fim' para encerrar.\n",
            "Digite as notas (digite 'fim' para encerrar):8\n",
            "Digite as notas (digite 'fim' para encerrar):8.9\n",
            "Digite as notas (digite 'fim' para encerrar):4.7\n",
            "Digite as notas (digite 'fim' para encerrar):fim\n",
            "A média geral das notas é: 8.12\n"
          ]
        }
      ]
    },
    {
      "cell_type": "markdown",
      "source": [
        "### 13 – Contagem de Notas Acima e Abaixo da Média\n",
        "Objetivo:\n",
        "Ler uma lista de notas.\n",
        "Contar quantas notas alcançaram (≥ 7.0) e quantas não alcançaram a média."
      ],
      "metadata": {
        "id": "tVjq8A1y5OkX"
      }
    },
    {
      "cell_type": "code",
      "source": [
        "notas = []\n",
        "media = 7\n",
        "nota_acima = []\n",
        "nota_abaixo = []\n",
        "\n",
        "print(\"Digite as notas (digite 'fim' para encerrar):\")\n",
        "\n",
        "while True:\n",
        "    entrada = input(\"Nota: \")\n",
        "    if entrada.lower() == 'fim':\n",
        "        break\n",
        "    try:\n",
        "        nota = float(entrada)\n",
        "        notas.append(nota)\n",
        "    except ValueError:\n",
        "        print(\"Erro. Digite a nota ou 'fim' para encerrar.\")\n",
        "\n",
        "print(\"\\nSaída:\")\n",
        "for nota in notas:\n",
        "    if nota >= media:\n",
        "     nota_acima.append(nota)\n",
        "    else:\n",
        "      nota_abaixo.append(nota)\n",
        "\n",
        "print(\"\\nNotas acima da média:\", nota_acima)\n",
        "print(\"\\nNotas abaixo da média:\", nota_abaixo)\n",
        "print(\"\\nQuantidade de alunos acima da média:\", len(nota_acima))\n",
        "print(\"\\nQuantidade de alunos abaixo da média:\", len(nota_abaixo))"
      ],
      "metadata": {
        "colab": {
          "base_uri": "https://localhost:8080/"
        },
        "id": "TMkXGtpD5dif",
        "outputId": "635da82b-73ca-4db8-b16e-bdb075934a16"
      },
      "execution_count": null,
      "outputs": [
        {
          "output_type": "stream",
          "name": "stdout",
          "text": [
            "Digite as notas (digite 'fim' para encerrar):\n",
            "Nota: 10\n",
            "Nota: 9.1\n",
            "Nota: 8.2\n",
            "Nota: 7.4\n",
            "Nota: 6.5\n",
            "Nota: 5.6\n",
            "Nota: 4.7\n",
            "Nota: 3.8\n",
            "Nota: 2.9\n",
            "Nota: 1\n",
            "Nota: fim\n",
            "\n",
            "Saída:\n",
            "\n",
            "Notas acima da média: [10.0, 9.1, 8.2, 7.4]\n",
            "\n",
            "Notas abaixo da média: [6.5, 5.6, 4.7, 3.8, 2.9, 1.0]\n",
            "\n",
            "Quantidade de alunos acima da média: 4\n",
            "\n",
            "Quantidade de alunos abaixo da média: 6\n"
          ]
        }
      ]
    },
    {
      "cell_type": "markdown",
      "source": [
        "### 14 – Classificação de Idades\n",
        "Objetivo:\n",
        "Ler uma lista de idades.\n",
        "Contar quantas idades são de:\n",
        "Crianças (até 11 anos)\n",
        "Adolescentes (12 a 17 anos)\n",
        "Adultos (18 anos ou mais)"
      ],
      "metadata": {
        "id": "ODQqY9Z07SOB"
      }
    },
    {
      "cell_type": "code",
      "source": [
        "idades = []\n",
        "criancas = []\n",
        "adolescentes = []\n",
        "adultos = []\n",
        "\n",
        "print(\"Digite as idades (digite 'fim' para encerrar):\")\n",
        "\n",
        "while True:\n",
        "    entrada = input(\"Idade: \")\n",
        "    if entrada.lower() == 'fim':\n",
        "        break\n",
        "    try:\n",
        "        idade = int(entrada)\n",
        "        idades.append(idade)\n",
        "    except ValueError:\n",
        "        print(\"Erro. Digite uma idade ou 'fim' para encerrar.\")\n",
        "for idade in idades:\n",
        "  if idade <= 11:\n",
        "    criancas.append(idade)\n",
        "  elif idade >= 12 and idade <= 17:\n",
        "    adolescentes.append(idade)\n",
        "  else:\n",
        "    adultos.append(idade)\n",
        "\n",
        "print(\"Crianças:\", len(criancas))\n",
        "print(\"Adolescentes:\", len(adolescentes))\n",
        "print(\"Adultos:\", len(adultos))"
      ],
      "metadata": {
        "id": "AD_PPhFD7bCg",
        "colab": {
          "base_uri": "https://localhost:8080/"
        },
        "outputId": "c77a5ffc-d9d9-46ef-8d55-7846d9299901"
      },
      "execution_count": null,
      "outputs": [
        {
          "output_type": "stream",
          "name": "stdout",
          "text": [
            "Digite as idades (digite 'fim' para encerrar):\n",
            "Idade: 45\n",
            "Idade: 17\n",
            "Idade: 34\n",
            "Idade: 21\n",
            "Idade: 11\n",
            "Idade: 15\n",
            "Idade: 4\n",
            "Idade: 29\n",
            "Idade: 12\n",
            "Idade: 21\n",
            "Idade: fim\n",
            "Crianças: 2\n",
            "Adolescentes: 3\n",
            "Adultos: 5\n"
          ]
        }
      ]
    },
    {
      "cell_type": "markdown",
      "source": [
        "### 15 – Média de Idades por Grupo\n",
        "Objetivo:\n",
        "Utilizando a lista do exercício anterior, calcular a média de idade:\n",
        "das crianças\n",
        "dos adolescentes\n",
        "dos adultos\n",
        "Exibir as contagens e as médias."
      ],
      "metadata": {
        "id": "91FkkFDkX5Ou"
      }
    },
    {
      "cell_type": "code",
      "source": [
        "idades = []\n",
        "criancas = []\n",
        "adolescentes = []\n",
        "adultos = []\n",
        "\n",
        "print(\"Digite as idades (digite 'fim' para encerrar):\")\n",
        "\n",
        "while True:\n",
        "    entrada = input(\"Idade: \")\n",
        "    if entrada.lower() == 'fim':\n",
        "        break\n",
        "    try:\n",
        "        idade = int(entrada)\n",
        "        idades.append(idade)\n",
        "    except ValueError:\n",
        "        print(\"Erro. Digite uma idade ou 'fim' para encerrar.\")\n",
        "\n",
        "for idade in idades:\n",
        "  if idade <= 11:\n",
        "    criancas.append(idade)\n",
        "  elif idade >= 12 and idade <= 17:\n",
        "    adolescentes.append(idade)\n",
        "  else:\n",
        "    adultos.append(idade)\n",
        "\n",
        "media_criancas = sum(criancas) / len(criancas)\n",
        "media_adolescentes = sum(adolescentes) / len(adolescentes)\n",
        "media_adultos = sum(adultos) / len(adultos)\n",
        "\n",
        "print(\"Crianças:\", len(criancas), \"Média:\", round(media_criancas, 2))\n",
        "print(\"Adolescentes:\", len(adolescentes), \"Média:\", round(media_adolescentes, 2))\n",
        "print(\"Adultos:\", len(adultos), \"Média:\", round(media_adultos, 2))"
      ],
      "metadata": {
        "colab": {
          "base_uri": "https://localhost:8080/"
        },
        "id": "dt9hXxCuX8Dl",
        "outputId": "644a72f3-190c-4d6d-c9f4-b8c6dcebd1cb"
      },
      "execution_count": null,
      "outputs": [
        {
          "output_type": "stream",
          "name": "stdout",
          "text": [
            "Digite as idades (digite 'fim' para encerrar):\n",
            "Idade: 45\n",
            "Idade: 17\n",
            "Idade: 34\n",
            "Idade: 21\n",
            "Idade: 11\n",
            "Idade: 15\n",
            "Idade: 4\n",
            "Idade: 29\n",
            "Idade: 12\n",
            "Idade: 21\n",
            "Idade: fim\n",
            "Crianças: 2 Média: 7.5\n",
            "Adolescentes: 3 Média: 14.67\n",
            "Adultos: 5 Média: 30.0\n"
          ]
        }
      ]
    },
    {
      "cell_type": "markdown",
      "source": [
        "### 16 – Contar Números Primos\n",
        "Objetivo:\n",
        "Ler uma lista de números inteiros.\n",
        "Contar quantos dos números são primos."
      ],
      "metadata": {
        "id": "ze0M0PQBZrVP"
      }
    },
    {
      "cell_type": "code",
      "source": [
        "def primo(numero):\n",
        "    if numero <= 1:\n",
        "        return False\n",
        "    for i in range(2, int(numero**0.5) + 1):\n",
        "        if numero % i == 0:\n",
        "            return False\n",
        "    return True\n",
        "\n",
        "numeros = []\n",
        "primos = []\n",
        "\n",
        "print(\"Digite os números inteiros (digite 'fim' para encerrar):\")\n",
        "\n",
        "while True:\n",
        "    entrada = input(\"Número: \")\n",
        "    if entrada.lower() == 'fim':\n",
        "        break\n",
        "    try:\n",
        "        numero = int(entrada)\n",
        "        numeros.append(numero)\n",
        "    except ValueError:\n",
        "        print(\"Erro. Digite um número inteiro ou 'fim' para encerrar.\")\n",
        "\n",
        "for numero in numeros:\n",
        "    if primo(numero):\n",
        "        primos.append(numero)\n",
        "\n",
        "print(\"Quantidade de números primos:\", len(primos))\n",
        "print(\"Números primos:\", primos)\n",
        "\n"
      ],
      "metadata": {
        "colab": {
          "base_uri": "https://localhost:8080/"
        },
        "id": "UN4rfPzNZuOY",
        "outputId": "f631b0ed-dcfa-40e8-f3fd-10b2227dd779"
      },
      "execution_count": null,
      "outputs": [
        {
          "output_type": "stream",
          "name": "stdout",
          "text": [
            "Digite os números inteiros (digite 'fim' para encerrar):\n",
            "Número: 47\n",
            "Número: 17\n",
            "Número: 34\n",
            "Número: 21\n",
            "Número: 15\n",
            "Número: 4\n",
            "Número: 11\n",
            "Número: 29\n",
            "Número: 12\n",
            "Número: 21\n",
            "Número: fim\n",
            "Quantidade de números primos: 4\n",
            "Números primos: [47, 17, 11, 29]\n"
          ]
        }
      ]
    }
  ]
}