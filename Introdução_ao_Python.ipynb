{
  "nbformat": 4,
  "nbformat_minor": 0,
  "metadata": {
    "colab": {
      "provenance": [],
      "authorship_tag": "ABX9TyO7tdynwI6jnfLsfoga08/0"
    },
    "kernelspec": {
      "name": "python3",
      "display_name": "Python 3"
    },
    "language_info": {
      "name": "python"
    }
  },
  "cells": [
    {
      "cell_type": "code",
      "execution_count": null,
      "metadata": {
        "colab": {
          "base_uri": "https://localhost:8080/"
        },
        "id": "vyOiLzQX_qYx",
        "outputId": "63246f35-9ecd-4a85-a47a-ce4bad68dc0b"
      },
      "outputs": [
        {
          "output_type": "stream",
          "name": "stdout",
          "text": [
            "Olá mundo!\n"
          ]
        }
      ],
      "source": [
        "print(\"Olá mundo!\")"
      ]
    },
    {
      "cell_type": "markdown",
      "source": [
        "Estrutura Condicional"
      ],
      "metadata": {
        "id": "qlVI2Aa5oPj5"
      }
    },
    {
      "cell_type": "code",
      "source": [
        "# Algoritmo para indicar se uma pessoa é maior de idade\n",
        "\n",
        "nome = input(\"Digite seu nome \\n\")\n",
        "idade = int(input(\"Digite sua idade \\n\"))\n",
        "\n",
        "print (\"O \" + nome + \" tem\", idade, \"anos\")\n",
        "\n",
        "if idade <18:\n",
        "    print(\"Ele/a é menor de idade\")\n",
        "else:\n",
        "    print(\"Ele/a é maior de idade\")\n"
      ],
      "metadata": {
        "colab": {
          "base_uri": "https://localhost:8080/"
        },
        "id": "jfOPDq1eoSWD",
        "outputId": "bb6881c2-8234-4525-9394-9298ded4da7f"
      },
      "execution_count": null,
      "outputs": [
        {
          "output_type": "stream",
          "name": "stdout",
          "text": [
            "Digite seu nome \n",
            "douglas\n",
            "Digite sua idade \n",
            "24\n",
            "O douglas tem 24 anos\n",
            "Você é maior de idade\n"
          ]
        }
      ]
    },
    {
      "cell_type": "markdown",
      "source": [
        "Indentificar se uma pessoa pode votar"
      ],
      "metadata": {
        "id": "1OTT4Mhzryfd"
      }
    },
    {
      "cell_type": "code",
      "source": [
        "nome = input(\"Digite seu nome \\n\")\n",
        "idade = int(input(\"Digite sua idade \\n\"))\n",
        "\n",
        "if idade >= 18 and idade < 65:\n",
        "    print(\"Voto obrigátório\")\n",
        "elif idade < 16:\n",
        "    print(\"Não pode votar\")\n",
        "else:\n",
        "    print(\"Voto facultativo\")"
      ],
      "metadata": {
        "colab": {
          "base_uri": "https://localhost:8080/"
        },
        "id": "f0M1juESr4_r",
        "outputId": "c39fefba-5df0-4ba1-cef6-c1ad60e4de08"
      },
      "execution_count": null,
      "outputs": [
        {
          "output_type": "stream",
          "name": "stdout",
          "text": [
            "Digite seu nome \n",
            "opa\n",
            "Digite sua idade \n",
            "48\n",
            "Voto obrigátório\n"
          ]
        }
      ]
    },
    {
      "cell_type": "markdown",
      "source": [
        "Laços de Repetição"
      ],
      "metadata": {
        "id": "oDGmuQV90vyN"
      }
    },
    {
      "cell_type": "code",
      "source": [
        "for i in range(5):\n",
        "  print(\"Iteração\", i, \"!\")"
      ],
      "metadata": {
        "colab": {
          "base_uri": "https://localhost:8080/"
        },
        "id": "c-bGtcct0yjd",
        "outputId": "f85fe5a6-c6b6-4d3a-a528-954ebbb1962f"
      },
      "execution_count": null,
      "outputs": [
        {
          "output_type": "stream",
          "name": "stdout",
          "text": [
            "Iteração 0 !\n",
            "Iteração 1 !\n",
            "Iteração 2 !\n",
            "Iteração 3 !\n",
            "Iteração 4 !\n"
          ]
        }
      ]
    },
    {
      "cell_type": "code",
      "source": [
        "contador = 0\n",
        "while contador <5:\n",
        "  print(\"Iteração\", contador, \"!\")\n",
        "  contador += 1"
      ],
      "metadata": {
        "colab": {
          "base_uri": "https://localhost:8080/"
        },
        "id": "rMCQTNF21J62",
        "outputId": "00b8c69a-1c74-4ac7-e8f5-cfc53797db10"
      },
      "execution_count": null,
      "outputs": [
        {
          "output_type": "stream",
          "name": "stdout",
          "text": [
            "Iteração 0 !\n",
            "Iteração 1 !\n",
            "Iteração 2 !\n",
            "Iteração 3 !\n",
            "Iteração 4 !\n"
          ]
        }
      ]
    },
    {
      "cell_type": "code",
      "source": [
        "contador = 0\n",
        "while contador <15:\n",
        "  print(\"Iteração\", contador, \"!\")\n",
        "  contador += 3"
      ],
      "metadata": {
        "colab": {
          "base_uri": "https://localhost:8080/"
        },
        "id": "oWMRXdA116LC",
        "outputId": "51b85faa-7d8d-44b5-a169-5671cfa6cb72"
      },
      "execution_count": null,
      "outputs": [
        {
          "output_type": "stream",
          "name": "stdout",
          "text": [
            "Iteração 0 !\n",
            "Iteração 3 !\n",
            "Iteração 6 !\n",
            "Iteração 9 !\n",
            "Iteração 12 !\n"
          ]
        }
      ]
    }
  ]
}