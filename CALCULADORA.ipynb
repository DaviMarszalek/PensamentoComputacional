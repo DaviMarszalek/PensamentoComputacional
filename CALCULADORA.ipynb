{
  "nbformat": 4,
  "nbformat_minor": 0,
  "metadata": {
    "colab": {
      "provenance": [],
      "authorship_tag": "ABX9TyN60ywhnqnjPA7vugECLIVy"
    },
    "kernelspec": {
      "name": "python3",
      "display_name": "Python 3"
    },
    "language_info": {
      "name": "python"
    }
  },
  "cells": [
    {
      "cell_type": "markdown",
      "source": [
        "# Calculadora imples em Python\n",
        "\n",
        "- +, -, *, /"
      ],
      "metadata": {
        "id": "a2biowJ9mRrr"
      }
    },
    {
      "cell_type": "code",
      "source": [
        "import math\n",
        "\n",
        "def soma(a, b):\n",
        "  return a + b\n",
        "\n",
        "def subtracao(a, b):\n",
        "  return a - b\n",
        "\n",
        "def multiplicacao(a, b):\n",
        "  return a * b\n",
        "\n",
        "def divisao(a, b):\n",
        "  return a / b\n",
        "\n",
        "def exponenciacao(a, b):\n",
        "  return a ** b\n",
        "\n",
        "def raiz(a, b):\n",
        "  return math.pow(b, 1/a)\n",
        "\n",
        "def divisao_inteira(a, b):\n",
        "  return a // b\n",
        "\n",
        "def resto_divisao(a, b):\n",
        "  return a % b\n",
        "\n",
        "\n",
        "op_string = \"Para calcular digite:\"\n",
        "op_string += \"\\n+ para soma,\"\n",
        "op_string += \"\\n- para subtração,\"\n",
        "op_string += \"\\n* para multiplicação,\"\n",
        "op_string += \"\\n/ para divisão,\"\n",
        "op_string += \"\\n** para a ^ b,\"\n",
        "op_string += \"\\n// para a raiz b,\"\n",
        "op_string += \"\\nDIV para divisão inteira,\"\n",
        "op_string += \"\\nMOD para resto da divisão ou\"\n",
        "op_string += \"\\ns para sair! \"\n",
        "\n",
        "while True:\n",
        "  try:\n",
        "    a = float(input(\"Digite o primeiro valor: \"))\n",
        "  except ValueError:\n",
        "    print(\"Erro: você deve digitar um número válido.\")\n",
        "    continue\n",
        "\n",
        "  operacao = input(op_string).strip()\n",
        "\n",
        "  if not operacao:\n",
        "    print(\"Erro: você deve digitar uma operação.\")\n",
        "    continue\n",
        "\n",
        "  if operacao.lower() == 's':\n",
        "    print(\"Encerrando a calculadora.\")\n",
        "    break\n",
        "\n",
        "  try:\n",
        "    b = float(input(\"Digite o segundo valor: \"))\n",
        "  except ValueError:\n",
        "    print(\"Erro: você deve digitar um número válido.\")\n",
        "    continue\n",
        "\n",
        "  if operacao == \"+\":\n",
        "    print(\"Resultado da soma:\", round(soma(a, b), 2))\n",
        "  elif operacao == \"-\":\n",
        "    print(\"Resultado da subtração:\", round(subtracao(a, b), 2))\n",
        "  elif operacao == \"*\":\n",
        "    print(\"Resultado da multiplicação:\", round(multiplicacao(a, b), 2))\n",
        "  elif operacao == \"/\":\n",
        "    if b == 0:\n",
        "      print(\"Erro: divisão por zero.\")\n",
        "    else:\n",
        "      print(\"Resultado da divisão:\", round(divisao(a, b), 2))\n",
        "  elif operacao == \"**\":\n",
        "    print(\"Resultado de\", a, \"elevado a\", b, \"é:\", round(exponenciacao(a, b), 2))\n",
        "  elif operacao == \"//\":\n",
        "    try:\n",
        "      print(\"Resultado de\", b, \"raiz de\", a, \"é:\", round(raiz(a, b), 2))\n",
        "    except:\n",
        "      print(\"Erro: não foi possível calcular a raiz.\")\n",
        "  elif operacao.upper() == \"DIV\":\n",
        "    if b == 0:\n",
        "      print(\"Erro: divisão por zero.\")\n",
        "    else:\n",
        "      print(\"Resultado da divisão inteira:\", divisao_inteira(a, b))\n",
        "  elif operacao.upper() == \"MOD\":\n",
        "    if b == 0:\n",
        "      print(\"Erro: divisão por zero.\")\n",
        "    else:\n",
        "      print(\"Resultado do resto da divisão:\", resto_divisao(a, b))\n",
        "  else:\n",
        "    print(\"Erro: operação inválida. Tente novamente.\")\n"
      ],
      "metadata": {
        "colab": {
          "base_uri": "https://localhost:8080/"
        },
        "id": "BFqoFEaAmgx5",
        "outputId": "3ece720b-17ae-40a3-bb69-4598359e58ad"
      },
      "execution_count": null,
      "outputs": [
        {
          "output_type": "stream",
          "name": "stdout",
          "text": [
            "Digite o primeiro valor: 10\n",
            "Para calcular digite:\n",
            "+ para soma,\n",
            "- para subtração,\n",
            "* para multiplicação,\n",
            "/ para divisão,\n",
            "** para a ^ b,\n",
            "// para a raiz b,\n",
            "DIV para divisão inteira,\n",
            "MOD para resto da divisão ou\n",
            "s para sair! *\n",
            "Digite o segundo valor: 5\n",
            "Resultado da multiplicação: 50.0\n",
            "Digite o primeiro valor: 10\n",
            "Para calcular digite:\n",
            "+ para soma,\n",
            "- para subtração,\n",
            "* para multiplicação,\n",
            "/ para divisão,\n",
            "** para a ^ b,\n",
            "// para a raiz b,\n",
            "DIV para divisão inteira,\n",
            "MOD para resto da divisão ou\n",
            "s para sair! S\n",
            "Encerrando a calculadora.\n"
          ]
        }
      ]
    },
    {
      "cell_type": "code",
      "source": [],
      "metadata": {
        "id": "4Zq2CoRXoUne"
      },
      "execution_count": null,
      "outputs": []
    }
  ]
}